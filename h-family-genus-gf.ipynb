{
 "cells": [
  {
   "cell_type": "markdown",
   "id": "09a521a2-6a93-4517-9998-d593b300ecc0",
   "metadata": {},
   "source": [
    "# Tool to compute genus generating series for H-linear and H-circular families\n",
    "\n",
    "**Author**: Wenjie Fang\n",
    "\n",
    "**Date**: 2025-07-07\n",
    "\n",
    "**License**: GPLv3\n",
    "\n",
    "We are given a graph $H = (V, E)$ with two non-intersecting subsets $U_1, U_2$ of nodes, and a gluing function $h: U_1 \\to U_2$. We want to gind the genus generating series of the $H$-linear and $H$-circular families. By Euler's formula, we may instead work with the number of faces. We will mark the number of copies by $t$, and the number of faces by $x$. At the end, we will reconvert these generating functions to ones that mark the genus."
   ]
  },
  {
   "cell_type": "code",
   "execution_count": 1,
   "id": "29d6594d-6e9d-449e-b269-cc340289df08",
   "metadata": {},
   "outputs": [],
   "source": [
    "Rx.<x> = PolynomialRing(ZZ) # for genus\n",
    "Rtx.<t> = PowerSeriesRing(Rx) # for size\n",
    "Polytx = PolynomialRing(Rx, t)\n",
    "Fractx = Polytx.fraction_field()"
   ]
  },
  {
   "cell_type": "markdown",
   "id": "a2cee5cc-2c68-4802-b7d8-f6bd30d3874c",
   "metadata": {},
   "source": [
    "## Representation of graphs\n",
    "\n",
    "We will assume that the graph $H$ is connected, and we represent it as input by a list of its edges, each a pair of integers representing its $n$ nodes running from $0$ to $n-1$. For instance, the graph with two vertices and a triple edge will be ``[(0, 1), (0, 1), (0, 1)]``.\n",
    "\n",
    "A dart is a pair of a node and one of its adjacent edge. We give the darts of a given node consecutive numbers. The embeddings are represented by two permutations over the darts, an involution $\\tau$ without fixed point representing which two darts share the same node, and a general permutation $\\sigma$ representing the order of darts around each node.\n",
    "\n",
    "In our implementation, the numbering of darts is fixed in advanced, thus $\\tau$ is fixed. We only need to go over all possible $\\sigma$, which has a fixed cycle type."
   ]
  },
  {
   "cell_type": "code",
   "execution_count": 2,
   "id": "90cadb3e-3bba-4668-80da-d335587265da",
   "metadata": {},
   "outputs": [
    {
     "data": {
      "text/plain": [
       "2 + 2*t^2"
      ]
     },
     "execution_count": 2,
     "metadata": {},
     "output_type": "execute_result"
    }
   ],
   "source": [
    "def get_deg_seq(G, n):\n",
    "    '''\n",
    "    Returns a list storing the degree of each node\n",
    "    '''\n",
    "    degseq = [0] * n\n",
    "    for (a, b) in G:\n",
    "        degseq[a] += 1\n",
    "        degseq[b] += 1\n",
    "    return degseq\n",
    "\n",
    "def get_dart_indices(G, n):\n",
    "    '''\n",
    "    returns the starting index of darts associated to each node.\n",
    "    '''\n",
    "    curflag = [1] * n\n",
    "    degseq = get_deg_seq(G, n)\n",
    "    for i in range(1, n):\n",
    "        curflag[i] = curflag[i - 1] + degseq[i - 1]\n",
    "    return curflag\n",
    "\n",
    "def get_edge_perm_list(G, n):\n",
    "    '''\n",
    "    returns the involution without fixed point for the given graph, as a list of pairs\n",
    "    '''\n",
    "    pl = []\n",
    "    # compute starting half-edge indices\n",
    "    dartidx = get_dart_indices(G, n)\n",
    "    # construct the list\n",
    "    for e in G:\n",
    "        darts = []\n",
    "        for i in range(2):\n",
    "            dart = dartidx[e[i]]\n",
    "            dartidx[e[i]] += 1\n",
    "            darts.append(dart)\n",
    "        pl.append(tuple(darts))\n",
    "    return pl\n",
    "\n",
    "def compute_graph_genus_poly(G, n):\n",
    "    '''\n",
    "    Compute the genus polynomial of the given graph G with n nodes.\n",
    "    '''\n",
    "    m = len(G) # number of edges\n",
    "    # compute the permutation for edges\n",
    "    edgeperm = sage.combinat.permutation.from_cycles(2 * m, get_edge_perm_list(G, n))\n",
    "    # get the needed information\n",
    "    degseq = get_deg_seq(G, n)\n",
    "    dartidx = get_dart_indices(G, n)\n",
    "    # construct cycles for each node\n",
    "    cycsets = [CyclicPermutations(range(dartidx[i], dartidx[i] + degseq[i])) for i in range(n)]\n",
    "    # cartesian product of everyone\n",
    "    accu = [0] * (m - n + 2)\n",
    "    for cycles in sage.misc.mrange.cartesian_product_iterator(cycsets):\n",
    "        nodeperm = sage.combinat.permutation.from_cycles(2 * m, cycles)\n",
    "        accu[m - n - (nodeperm * edgeperm).cycle_type().length() + 2] += 1\n",
    "    return sum([accu[a] * t^a for a in range(m - n + 2)])\n",
    "\n",
    "compute_graph_genus_poly([(0,1), (0,1), (0,1)], 2)"
   ]
  },
  {
   "cell_type": "markdown",
   "id": "e726d364-632a-431c-a3e6-3f32cb3bf235",
   "metadata": {},
   "source": [
    "## Partial face distribution\n",
    "\n",
    "In the process, we need to compute the face element of $H_{*\\varphi}$ restricted to darts related to nodes in $U_1 \\cup U_2$, formally $\\Phi^{D(H)}_{D^H}(\\mathbf{R}(H_{*\\varphi}))$. For this, we need the following function that computes this restricted face element."
   ]
  },
  {
   "cell_type": "code",
   "execution_count": 3,
   "id": "e8d871da-0780-47b0-9a2d-3451b3fdbe00",
   "metadata": {},
   "outputs": [
    {
     "data": {
      "text/plain": [
       "({(1,15,2,16): 4,\n",
       "  (1,15,16,2): 4*x^2 + 16,\n",
       "  (1,2,15,16): 4*x^2 + 16,\n",
       "  (1,2,16,15): 4*x^2 + 16,\n",
       "  (1,16,15,2): 4*x^2 + 16,\n",
       "  (1,16,2,15): 4,\n",
       "  (1,15): 4,\n",
       "  (1,15,16): 4*x,\n",
       "  (15,16): 16,\n",
       "  (1,16,15): 4*x,\n",
       "  (1,16): 4,\n",
       "  (2,15): 4,\n",
       "  (2,15,16): 4*x,\n",
       "  (2,16,15): 4*x,\n",
       "  (2,16): 4,\n",
       "  (1,15,2): 4*x,\n",
       "  (1,2)(15,16): 48*x,\n",
       "  (1,16,2): 4*x,\n",
       "  (1,2): 16,\n",
       "  (1,2,15): 4*x,\n",
       "  (1,2,16): 4*x},\n",
       " [[1, 2], [15, 16]])"
      ]
     },
     "execution_count": 3,
     "metadata": {},
     "output_type": "execute_result"
    }
   ],
   "source": [
    "def compute_face_element_proj(G, n, vl):\n",
    "    '''\n",
    "    Compute the face element of the given graph, blown-up at a given list of nodes, restricted to the darts of those nodes.\n",
    "    \n",
    "    The result is given as a dictionary with face permutation as key and the polynomial (monomial in this case) as value,\n",
    "    along with a list of the list of darts associated to each one of the nodes.\n",
    "    '''\n",
    "    m = len(G) # number of edges\n",
    "    # get the needed information\n",
    "    degseq = get_deg_seq(G, n)\n",
    "    dartidx = get_dart_indices(G, n)\n",
    "    # construct cycles for each node, distinguishing those node whose permutation we keep, excluding the kept vertices\n",
    "    cycsets = [list(CyclicPermutations(range(dartidx[i], dartidx[i] + degseq[i]))) for i in range(n) if i not in vl]\n",
    "    # construct the group algebra that we are working with\n",
    "    partialelem = [e for i in vl for e in range(dartidx[i], dartidx[i] + degseq[i])]\n",
    "    PSG = SymmetricGroup(partialelem)\n",
    "    # compute the permutation for edges\n",
    "    edgeperm = sage.combinat.permutation.from_cycles(2 * m, get_edge_perm_list(G, n))\n",
    "    # product then projection of everyone\n",
    "    accufinal = {}\n",
    "    for cycles in sage.misc.mrange.cartesian_product_iterator(cycsets):\n",
    "        nodeperm = sage.combinat.permutation.from_cycles(2 * m, cycles)\n",
    "        faceperm = Permutation(edgeperm * nodeperm).cycle_tuples()\n",
    "        # count faces involving only darts not in the list\n",
    "        facecnt = len(tuple(1 for f in faceperm if all((i not in partialelem) for i in f)))\n",
    "        # projection for permutation\n",
    "        faceperm = tuple(tuple(i for i in f if i in partialelem) for f in faceperm)\n",
    "        faceperm = tuple(f for f in faceperm if f)\n",
    "        faceperm = PSG(faceperm)\n",
    "        if faceperm not in accufinal:\n",
    "            accufinal[faceperm] = 0\n",
    "        accufinal[faceperm] += x^facecnt\n",
    "    return accufinal, [list(range(dartidx[i], dartidx[i] + degseq[i])) for i in vl]\n",
    "\n",
    "compute_face_element_proj([(0, 1), (1, 2), (2, 3), (3, 4)] * 2, 5, [0, 4])"
   ]
  },
  {
   "cell_type": "markdown",
   "id": "23ec08ee-a2d4-4cab-aaca-62003462aaa5",
   "metadata": {},
   "source": [
    "## Manual projection of darts\n",
    "\n",
    "Other than computing the projection of the face element of $H$, we also need to do projection for some product results. Therefore, we need some functionnalities to compute the projection. In this end, we will do computation with SymmetricGroup, which allows us to specify the domain, as it would change from one to the other."
   ]
  },
  {
   "cell_type": "code",
   "execution_count": 4,
   "id": "85a96f92-34e1-46df-b38a-236f4f937f01",
   "metadata": {},
   "outputs": [
    {
     "data": {
      "text/plain": [
       "{(1,11): 6, (2,11): 6, (1,11,2): 6*x, (1,2): 12, (1,2,11): 6*x}"
      ]
     },
     "execution_count": 4,
     "metadata": {},
     "output_type": "execute_result"
    }
   ],
   "source": [
    "def perm_proj(perm, PSG):\n",
    "    '''\n",
    "    Project a permutation into the domain given by PSG by ignoring elements that are not in the domain in the cycle notation\n",
    "    '''\n",
    "    domain = PSG.domain()\n",
    "    # count faces involving only darts not in the list\n",
    "    facecnt = len(tuple(1 for f in perm.cycle_tuples(singletons=True) if all((i not in domain) for i in f)))\n",
    "    return PSG(tuple(tuple(i for i in f if i in domain) for f in perm.cycle_tuples(singletons=True))), Rx(x)^facecnt\n",
    "\n",
    "def perm_proj_opt(perm, PSG, domain):\n",
    "    '''\n",
    "    Project a permutation into the domain given by PSG by ignoring elements that are not in the domain in the cycle notation\n",
    "    '''\n",
    "    # count faces involving only darts not in the list\n",
    "    facecnt = len(tuple(1 for f in perm.cycle_tuples(singletons=True) if all((i not in domain) for i in f)))\n",
    "    return PSG(tuple(tuple(i for i in e if i in domain) for e in perm.cycle_tuples(singletons=True))), Rx(x)^facecnt\n",
    "\n",
    "def group_alg_proj(algelem, domain):\n",
    "    '''\n",
    "    Same as perm_proj, but works on group algebra\n",
    "    '''\n",
    "    PSG = SymmetricGroup(domain)\n",
    "    accu = {}\n",
    "    for perm, val in algelem.items():\n",
    "        pproj, power = perm_proj_opt(perm, PSG, domain)\n",
    "        if pproj not in accu:\n",
    "            accu[pproj] = 0\n",
    "        accu[pproj] += power * val\n",
    "    return accu\n",
    "\n",
    "group_alg_proj(compute_face_element_proj([(0, 1), (1, 2), (2, 3)] * 2, 4, [0, 3])[0], [1, 2, 11])"
   ]
  },
  {
   "cell_type": "markdown",
   "id": "bdc59c4c-4132-43b8-a105-7e97aabfed58",
   "metadata": {},
   "source": [
    "As we are going to do vertex-amalgamation of graphs, for simplicity, we need to adjust from time to time the domain of the symmetric group involved so that the numbering of darts is not too big. However, this is optional."
   ]
  },
  {
   "cell_type": "code",
   "execution_count": 5,
   "id": "a61c2061-3e8b-4cac-8dbc-ad50664d7eee",
   "metadata": {},
   "outputs": [],
   "source": [
    "def standardize_domain_alg(algelem, domain_shift):\n",
    "    '''\n",
    "    Change the domain of the given element in group algebra to be on a different range\n",
    "\n",
    "    Return the element with the domain normalized, and a dictionary translating the elements of the old domain to those in the new one.\n",
    "    '''\n",
    "    for e in algelem:\n",
    "        olddomain = list(e.parent().domain())\n",
    "        break\n",
    "    ddict = {}\n",
    "    for i in range(len(olddomain)):\n",
    "        ddict[olddomain[i]] = i + domain_shift\n",
    "    PSG = SymmetricGroup(range(domain_shift, domain_shift + len(olddomain)))\n",
    "    accu = {}\n",
    "    for perm, val in algelem.items():\n",
    "        newperm = PSG(tuple(tuple(ddict[i] for i in c) for c in perm.cycle_tuples()))\n",
    "        accu[newperm] = val # no conflict is possible here\n",
    "    return accu, ddict"
   ]
  },
  {
   "cell_type": "markdown",
   "id": "ab619355-60c9-435a-9217-8a55051b257c",
   "metadata": {},
   "source": [
    "We also need to multiply elements in the group algebra, which may be on different supports."
   ]
  },
  {
   "cell_type": "code",
   "execution_count": 6,
   "id": "b31f447f-20d4-44d5-b401-0dce12a3f348",
   "metadata": {},
   "outputs": [
    {
     "name": "stdout",
     "output_type": "stream",
     "text": [
      "{1, 2, 3, 4, 5, 6, 7, 8}\n"
     ]
    }
   ],
   "source": [
    "def multiply_algelem(elem1, elem2):\n",
    "    '''\n",
    "    Compute the product of two element in group algebras, which may have different support.\n",
    "    \n",
    "    The result is thus supported on the union of the supports\n",
    "    '''\n",
    "    # extraction of domains, and computing the new domain\n",
    "    dom1, dom2 = [], []\n",
    "    for e in elem1:\n",
    "        dom1 = list(e.parent().domain())\n",
    "        break\n",
    "    for e in elem2:\n",
    "        dom2 = list(e.parent().domain())\n",
    "        break\n",
    "    dom = dom1 + dom2\n",
    "    PSG = SymmetricGroup(dom)\n",
    "    # do the product, one by one\n",
    "    accu = {}\n",
    "    elem1 = {PSG(e): v for e, v in elem1.items()}\n",
    "    elem2 = {PSG(e): v for e, v in elem2.items()}\n",
    "    for e1, v1 in elem1.items():\n",
    "        for e2, v2 in elem2.items():\n",
    "            e = e1 * e2\n",
    "            if e not in accu:\n",
    "                accu[e] = 0\n",
    "            accu[e] += v1 * v2\n",
    "    return accu\n",
    "\n",
    "for e in multiply_algelem(compute_face_element_proj([(0,1)] * 3, 2, [0, 1])[0], {SymmetricGroup([7, 8])(1): 7}):\n",
    "    print(e.parent().domain())"
   ]
  },
  {
   "cell_type": "markdown",
   "id": "d9f0bc65-ce2e-4f07-878f-d5286a0da1ff",
   "metadata": {},
   "source": [
    "## Applying the operators in chain\n",
    "\n",
    "We now need to construct a function that applies these operators in the correct order to obtain iteratively the face polynomial of the $H$-linear family. Then another function for the $H$-circular family by linking the two ends of graphs in the $H$-linear family. For this, we need a function that compute the face element of a vertex-amalgamation of two graphs, given their proper exploded."
   ]
  },
  {
   "cell_type": "code",
   "execution_count": 7,
   "id": "c164be1a-7adb-4fc2-9a9b-ec8a65b53f41",
   "metadata": {},
   "outputs": [],
   "source": [
    "def vertex_amalgamation(eG, eH, vG, vH):\n",
    "    '''\n",
    "    Computes the face element of the vertex amalgamation of G and H, given as face elements.\n",
    "\n",
    "    More precisely, we suppose that eG (resp. eH) is the face element of the blow-up of G (resp. H) at vertices in vG (resp. vH).\n",
    "    \n",
    "    We assume that vG and vH are of the same length, and we will fusion vertices in these orders.\n",
    "\n",
    "    We also automatically project the element obtained out of the darts in the fusioned vertices\n",
    "\n",
    "    Alongside with the face element, we also return a dictionary on the darts *that are not merged*.\n",
    "    '''\n",
    "    if len(vG) != len(vH):\n",
    "        raise ValueError(\"Not the same number of vertices in the two graphs\")\n",
    "    # standardize everything\n",
    "    eG, ddictG = standardize_domain_alg(eG, 1)\n",
    "    eH, ddictH = standardize_domain_alg(eH, max(ddictG.values()) + 1)\n",
    "    # compute the full domain\n",
    "    if ddictH:\n",
    "        fulldom = [i + 1 for i in range(max(ddictH.values()))]\n",
    "    elif ddictG:\n",
    "        fulldom = [i + 1 for i in range(max(ddictG.values()))] # for the case of H empty used to undo blow-up\n",
    "    else:\n",
    "        fulldom = [] # really, nothing is left?\n",
    "    vGnew = [[ddictG[n] for n in node] for node in vG]\n",
    "    vHnew = [[ddictH[n] for n in node] for node in vH]\n",
    "    # we only need to keep non-fusioned darts\n",
    "    for node in vG:\n",
    "        for n in node:\n",
    "            ddictG.pop(n)\n",
    "    for node in vH:\n",
    "        for n in node:\n",
    "            ddictH.pop(n)\n",
    "    vG, vH = vGnew, vHnew\n",
    "    # compute the reduced domain\n",
    "    fdarts = [i for node in vG for i in node] + [i for node in vH for i in node]\n",
    "    reddom = [i for i in fulldom if i not in fdarts]\n",
    "    # compute the darts of fusioned vertices\n",
    "    vfusion = [vG[i] + vH[i] for i in range(len(vG))]\n",
    "    # preparation\n",
    "    PSG = SymmetricGroup(fulldom)\n",
    "    PSGred = SymmetricGroup(reddom)\n",
    "    eG = {PSG(e): v for e, v in eG.items()}\n",
    "    eH = {PSG(e): v for e, v in eH.items()}\n",
    "    accu = {}\n",
    "    cycsets = [CyclicPermutations(node) for node in vfusion]\n",
    "    for nodecyc in sage.misc.mrange.cartesian_product_iterator(cycsets): # the element \\mathbb{C}_{U}\n",
    "        cu = PSG([tuple(cyc) for cyc in nodecyc]) # PSG only accept collection of tuples\n",
    "        for elemG, valG in eG.items():\n",
    "            tmp = cu * elemG\n",
    "            for elemH, valH in eH.items():\n",
    "                res, face = perm_proj_opt(tmp * elemH, PSGred, reddom)\n",
    "                if res not in accu:\n",
    "                    accu[res] = 0\n",
    "                accu[res] += face * valG * valH\n",
    "    return accu, ddictG, ddictH"
   ]
  },
  {
   "cell_type": "code",
   "execution_count": 8,
   "id": "abfece06-2a01-4b46-a0e0-555fdfd05b9f",
   "metadata": {},
   "outputs": [
    {
     "data": {
      "text/plain": [
       "({(2,7): 4,\n",
       "  (2,7,8): 4*x,\n",
       "  (7,8): 16,\n",
       "  (2,8,7): 4*x,\n",
       "  (2,8): 4,\n",
       "  (1,2): 16,\n",
       "  (1,2)(7,8): 48*x,\n",
       "  (1,2,7): 4*x,\n",
       "  (1,2,7,8): 4*x^2 + 16,\n",
       "  (1,2,8,7): 4*x^2 + 16,\n",
       "  (1,2,8): 4*x,\n",
       "  (1,7,2): 4*x,\n",
       "  (1,7,8,2): 4*x^2 + 16,\n",
       "  (1,8,7,2): 4*x^2 + 16,\n",
       "  (1,8,2): 4*x,\n",
       "  (1,7): 4,\n",
       "  (1,7,8): 4*x,\n",
       "  (1,8,7): 4*x,\n",
       "  (1,8): 4,\n",
       "  (1,7,2,8): 4,\n",
       "  (1,8,2,7): 4},\n",
       " {1: 1, 2: 2},\n",
       " {7: 7, 8: 8})"
      ]
     },
     "execution_count": 8,
     "metadata": {},
     "output_type": "execute_result"
    }
   ],
   "source": [
    "# test\n",
    "\n",
    "testH, testHnodes = compute_face_element_proj([(0, 1), (1, 2)] * 2, 3, [0, 2])\n",
    "vertex_amalgamation(testH, testH, [testHnodes[1]], [testHnodes[0]])"
   ]
  },
  {
   "cell_type": "code",
   "execution_count": 9,
   "id": "eb5fc8a3-8060-423f-9c91-b203b7063083",
   "metadata": {},
   "outputs": [
    {
     "data": {
      "text/plain": [
       "({(1,15,2,16): 4,\n",
       "  (1,15,16,2): 4*x^2 + 16,\n",
       "  (1,2,15,16): 4*x^2 + 16,\n",
       "  (1,2,16,15): 4*x^2 + 16,\n",
       "  (1,16,15,2): 4*x^2 + 16,\n",
       "  (1,16,2,15): 4,\n",
       "  (1,15): 4,\n",
       "  (1,15,16): 4*x,\n",
       "  (15,16): 16,\n",
       "  (1,16,15): 4*x,\n",
       "  (1,16): 4,\n",
       "  (2,15): 4,\n",
       "  (2,15,16): 4*x,\n",
       "  (2,16,15): 4*x,\n",
       "  (2,16): 4,\n",
       "  (1,15,2): 4*x,\n",
       "  (1,2)(15,16): 48*x,\n",
       "  (1,16,2): 4*x,\n",
       "  (1,2): 16,\n",
       "  (1,2,15): 4*x,\n",
       "  (1,2,16): 4*x},\n",
       " [[1, 2], [15, 16]])"
      ]
     },
     "execution_count": 9,
     "metadata": {},
     "output_type": "execute_result"
    }
   ],
   "source": [
    "compute_face_element_proj([(0, 1), (1, 2), (2, 3), (3, 4)] * 2, 5, [0, 4])"
   ]
  },
  {
   "cell_type": "markdown",
   "id": "49b5c623-3ce0-410d-b0b8-8eb73d9a2989",
   "metadata": {},
   "source": [
    "We also need a function that closes up the blown-up vertices. This can be seen as a vertex-amalgamation with a graph with the correct number of vertices but not any edges."
   ]
  },
  {
   "cell_type": "code",
   "execution_count": 10,
   "id": "2ccbfa5f-31a4-44ed-9904-49bc55af30b3",
   "metadata": {},
   "outputs": [
    {
     "data": {
      "text/plain": [
       "64*x^5 + 128*x^3 + 24*x"
      ]
     },
     "execution_count": 10,
     "metadata": {},
     "output_type": "execute_result"
    }
   ],
   "source": [
    "def undo_blowup_face_element(eG, vG):\n",
    "    '''\n",
    "    We assume that all darts are bound after undoing the blow-up\n",
    "    '''\n",
    "    return vertex_amalgamation(eG, {SymmetricGroup([])(): 1}, vG, [[] for _ in vG])[0][SymmetricGroup([])()]\n",
    "\n",
    "undo_blowup_face_element(compute_face_element_proj([(0, 1), (1, 2), (2, 3), (3, 4)] * 2, 5, [0, 4])[0], [[1, 2], [15, 16]])"
   ]
  },
  {
   "cell_type": "markdown",
   "id": "8d6239f2-fef3-42e5-93f5-ab869b8a86c3",
   "metadata": {},
   "source": [
    "## Computation of face polynomials of H-linear and H-circular families\n",
    "\n",
    "We are now prepared to compute the face polynomials of H-linear and H-circular families. Note that this is not yet the genus polynomial, and we will need an extra conversion for the genus polynomial."
   ]
  },
  {
   "cell_type": "code",
   "execution_count": 11,
   "id": "eb430ec0-64c9-4442-a136-6198332ccfea",
   "metadata": {},
   "outputs": [],
   "source": [
    "def linear_face_poly_iter(H, n, U1, U2):\n",
    "    '''\n",
    "    An iterator that compute the face polynomial of a H-circular family, given by the following parameters:\n",
    "    - pair H and n (number of vertices)\n",
    "    - k as number of repetitions of the same pattern\n",
    "    - U1 and U2 as gluing (from U1 to U2)\n",
    "    '''\n",
    "    # some sanity checks\n",
    "    if len(U1) != len(U2) or len(set(U1 + U2)) != len(U1) * 2: # same size and no intersection\n",
    "        raise ValueError('Specification of gluing incorrect')\n",
    "    # compute the elementary brick of blowup of H\n",
    "    blowupH, vblowupH = compute_face_element_proj(H, n, U1 + U2)\n",
    "    vU1, vU2 = vblowupH[:len(U1)], vblowupH[len(U1):]\n",
    "    # start iteration\n",
    "    curG, curU1, curU2 = blowupH, vU1, vU2\n",
    "    yield 1\n",
    "    yield undo_blowup_face_element(curG, curU1 + curU2)\n",
    "    while True:\n",
    "        # do amalgamation\n",
    "        curG, ddictG, ddictH = vertex_amalgamation(curG, blowupH, curU1, vU2)\n",
    "        # rename darts using the dictionary\n",
    "        curU2 = [[ddictG[n] for n in node] for node in curU2]\n",
    "        curU1 = [[ddictH[n] for n in node] for node in vU1]\n",
    "        yield undo_blowup_face_element(curG, curU1 + curU2)\n",
    "    return\n",
    "\n",
    "def linear_face_poly_list(H, n, U1, U2, k):\n",
    "    '''\n",
    "    Compute the face polynomial of a H-circular family, given by the following parameters:\n",
    "    - pair H and n (number of vertices)\n",
    "    - k as number of repetitions of the same pattern\n",
    "    - U1 and U2 as gluing (from U1 to U2)\n",
    "    '''\n",
    "    accu = []\n",
    "    iter = linear_face_poly_iter(H, n, U1, U2)\n",
    "    for _ in range(k + 1):\n",
    "        accu.append(next(iter))\n",
    "    return accu"
   ]
  },
  {
   "cell_type": "code",
   "execution_count": 12,
   "id": "9c0ceb3f-2a77-4282-bdff-8e58d9b7b6a7",
   "metadata": {},
   "outputs": [
    {
     "data": {
      "text/plain": [
       "[1,\n",
       " 2*x^3 + 2*x,\n",
       " 36*x^5 + 300*x^3 + 144*x,\n",
       " 648*x^7 + 11880*x^5 + 34992*x^3 + 10080*x,\n",
       " 11664*x^9 + 330480*x^7 + 2275776*x^5 + 3585600*x^3 + 708480*x,\n",
       " 209952*x^11 + 8048160*x^9 + 91585728*x^7 + 339655680*x^5 + 340174080*x^3 + 49766400*x]"
      ]
     },
     "execution_count": 12,
     "metadata": {},
     "output_type": "execute_result"
    }
   ],
   "source": [
    "linear_face_poly_list([[0, 1]] * 3, 2, [1], [0], 5)"
   ]
  },
  {
   "cell_type": "code",
   "execution_count": 13,
   "id": "f65495b3-d293-4179-8c7c-88afad088db2",
   "metadata": {},
   "outputs": [],
   "source": [
    "def circular_face_poly_iter(H, n, U1, U2):\n",
    "    '''\n",
    "    An iterator that computes the face polynomial of a H-circular family, given by the following parameters:\n",
    "    - pair H and n (number of vertices)\n",
    "    - k as number of repetitions of the same pattern\n",
    "    - U1 and U2 as gluing (from U1 to U2)\n",
    "    '''\n",
    "    # some sanity checks\n",
    "    if len(U1) != len(U2) or len(set(U1 + U2)) != len(U1) * 2: # same size and no intersection\n",
    "        raise ValueError('Specification of gluing incorrect')\n",
    "    # compute the elementary brick of blowup of H\n",
    "    blowupH, vblowupH = compute_face_element_proj(H, n, U1 + U2)\n",
    "    vU1, vU2 = vblowupH[:len(U1)], vblowupH[len(U1):]\n",
    "    # start iteration\n",
    "    curG, curU1, curU2 = blowupH, vU1, vU2\n",
    "    yield 1\n",
    "    yield undo_blowup_face_element(curG, [curU1[i] + curU2[i] for i in range(len(curU1))])\n",
    "    while True:\n",
    "        # do amalgamation\n",
    "        curG, ddictG, ddictH = vertex_amalgamation(curG, blowupH, curU1, vU2)\n",
    "        # rename darts using the dictionary\n",
    "        curU2 = [[ddictG[n] for n in node] for node in curU2]\n",
    "        curU1 = [[ddictH[n] for n in node] for node in vU1]\n",
    "        yield undo_blowup_face_element(curG, [curU1[i] + curU2[i] for i in range(len(curU1))])\n",
    "    return accu\n",
    "\n",
    "def circular_face_poly_list(H, n, U1, U2, k):\n",
    "    '''\n",
    "    Computes the face polynomial of a H-circular family, given by the following parameters:\n",
    "    - pair H and n (number of vertices)\n",
    "    - k as number of repetitions of the same pattern\n",
    "    - U1 and U2 as gluing (from U1 to U2)\n",
    "    '''\n",
    "    accu = []\n",
    "    iter = circular_face_poly_iter(H, n, U1, U2)\n",
    "    for _ in range(k + 1):\n",
    "        accu.append(next(iter))\n",
    "    return accu"
   ]
  },
  {
   "cell_type": "code",
   "execution_count": 14,
   "id": "9b1ecdfe-f9b5-4eb3-8d27-959d68d7072c",
   "metadata": {},
   "outputs": [
    {
     "data": {
      "text/plain": [
       "[1,\n",
       " 40*x^4 + 80*x^2,\n",
       " 120*x^6 + 4200*x^4 + 10080*x^2,\n",
       " 216*x^8 + 37224*x^6 + 618624*x^4 + 1071936*x^2,\n",
       " 1296*x^10 + 300672*x^8 + 11328336*x^6 + 90449568*x^4 + 105280128*x^2,\n",
       " 7776*x^12 + 3281472*x^10 + 169921152*x^8 + 2721612960*x^6 + 12212327232*x^4 + 9776049408*x^2]"
      ]
     },
     "execution_count": 14,
     "metadata": {},
     "output_type": "execute_result"
    }
   ],
   "source": [
    "circular_face_poly_list([[0, 1]] * 3, 2, [1], [0], 5)"
   ]
  },
  {
   "cell_type": "markdown",
   "id": "3950a334-ea7c-48c9-9639-e8897bcb911e",
   "metadata": {},
   "source": [
    "## Compute only the denominator\n",
    "\n",
    "We know that the face series is rational in `x` and `t`. In practice, it may be easier to compute first the denominator, which can be expressed as the determinant of a matrix, then use it to multiply the first terms to get the numerator."
   ]
  },
  {
   "cell_type": "code",
   "execution_count": 15,
   "id": "a53f8f26-b787-4238-b8a1-82ae9f8a613b",
   "metadata": {},
   "outputs": [],
   "source": [
    "def dict_to_cycles(d):\n",
    "    '''\n",
    "    Auxiliary function. Converts a dictionary representing a permutation of arbitrary domain into a cycle representation.\n",
    "\n",
    "    Note that the dictionary is consumed after the conversion.\n",
    "    '''\n",
    "    accu = []\n",
    "    while d:\n",
    "        # pick an arbitrary element\n",
    "        start = 0\n",
    "        for elem in d:\n",
    "            start = elem\n",
    "            break\n",
    "        # find the cycle\n",
    "        cycle = [start]\n",
    "        nextelem = d[start]\n",
    "        while nextelem != start:\n",
    "            cycle.append(nextelem)\n",
    "            nextelem = d[nextelem]\n",
    "        accu.append(tuple(cycle))\n",
    "        # remove the elements in the cycle\n",
    "        for e in cycle:\n",
    "            d.pop(e)\n",
    "    return accu\n",
    "\n",
    "def H_family_det(H, n, U1, U2):\n",
    "    '''\n",
    "    Compute the determinant of the matrix related to H-linear and H-circular families, always counting faces\n",
    "    '''\n",
    "    if len(U1) != len(U2):\n",
    "        raise ValueError(\"Not the same number of vertices in the two graphs\")\n",
    "    # compute the face element of H\n",
    "    eH, Ulist = compute_face_element_proj(H, n, U1 + U2)\n",
    "    U1, U2 = Ulist[:len(U1)], Ulist[len(U1):]\n",
    "    # standardize everything\n",
    "    _,  ddictG = standardize_domain_alg(eH, 1)\n",
    "    eH, ddictH = standardize_domain_alg(eH, max(ddictG.values()) + 1)\n",
    "    U1G = [[ddictG[n] for n in node] for node in U1]\n",
    "    U1H = [[ddictH[n] for n in node] for node in U1]\n",
    "    U2G = [[ddictG[n] for n in node] for node in U2]\n",
    "    U2H = [[ddictH[n] for n in node] for node in U2]\n",
    "    # compute the domains\n",
    "    fulldom = [i + Integer(1) for i in range(max(ddictH.values()))]\n",
    "    reddom = [n for node in U1H + U2G for n in node]\n",
    "    # preparation\n",
    "    PSG = SymmetricGroup(fulldom)\n",
    "    PSGred = SymmetricGroup(reddom)\n",
    "    eH = {PSG(e): v for e, v in eH.items()}\n",
    "    dartsG = [n for node in U1G + U2G for n in node]\n",
    "    U1G_to_U1H = {ddictG[n]: ddictH[n] for node in U1 for n in node}\n",
    "    accu = {}\n",
    "    vfusion = [U1G[i] + U2H[i] for i in range(len(U1G))]\n",
    "    cycsets = [CyclicPermutations(node) for node in vfusion]\n",
    "    for nodecyc in sage.misc.mrange.cartesian_product_iterator(cycsets): # the element \\mathbb{C}_{U}\n",
    "        cu = PSG([tuple(cyc) for cyc in nodecyc]) # PSG only accept collection of tuples\n",
    "        for elemGp in Permutations(dartsG):\n",
    "            elemG = PSG(dict_to_cycles({dartsG[i]: elemGp[i] for i in range(len(reddom))}))\n",
    "            elemGproj = PSGred(tuple(tuple((U1G_to_U1H[n] if n in U1G_to_U1H else n) for n in cyc) for cyc in elemG.cycle_tuples()))\n",
    "            if elemGproj not in accu:\n",
    "                accu[elemGproj] = {}\n",
    "            tmp = cu * elemG\n",
    "            for elemH, valH in eH.items():\n",
    "                res, face = perm_proj_opt(tmp * elemH, PSGred, reddom)\n",
    "                if res not in accu[elemGproj]:\n",
    "                    accu[elemGproj][res] = 0\n",
    "                accu[elemGproj][res] += face * valH\n",
    "    # now convert to a matrix and compute\n",
    "    elemlist = [PSGred(dict_to_cycles({reddom[i]: elem[i] for i in range(len(reddom))})) for elem in Permutations(reddom)]\n",
    "    elemcnt = len(elemlist)\n",
    "    elemdict = {elemlist[i]: i for i in range(len(elemlist))}\n",
    "    coeffdict = {}\n",
    "    for e1 in accu:\n",
    "        idx1 = elemdict[e1]\n",
    "        for e2 in accu[e1]:\n",
    "            coeffdict[(idx1, elemdict[e2])] = accu[e1][e2]\n",
    "    m = identity_matrix(Fractx, elemcnt) - matrix(Fractx, elemcnt, elemcnt, coeffdict) * Fractx(t)\n",
    "    return m.determinant(algorithm='df').numerator() # we only have polynomial coefficients here, and df is division-free"
   ]
  },
  {
   "cell_type": "code",
   "execution_count": 16,
   "id": "4886336d-5776-4ba0-85b3-dde82996aa6e",
   "metadata": {},
   "outputs": [
    {
     "data": {
      "text/plain": [
       "(-1) * (2*t - 1) * (2*t + 1) * (12*t^2 + 4*x*t - 1)^2 * (12*t^2 + 2*x*t - 1)^4"
      ]
     },
     "execution_count": 16,
     "metadata": {},
     "output_type": "execute_result"
    }
   ],
   "source": [
    "H_family_det([(0, 1)] * 2, 2, [1], [0]).factor()"
   ]
  },
  {
   "cell_type": "code",
   "execution_count": 17,
   "id": "5fbdf484-343d-4ed4-8a08-0b02998ddfda",
   "metadata": {},
   "outputs": [
    {
     "data": {
      "text/plain": [
       "(-1) * (2*t - 1) * (2*t + 1) * (12*t^2 + 4*x*t - 1)^2 * (12*t^2 + 2*x*t - 1)^4"
      ]
     },
     "execution_count": 17,
     "metadata": {},
     "output_type": "execute_result"
    }
   ],
   "source": [
    "H_family_det([(0, 1)] * 2, 2, [1], [0]).factor() # todo"
   ]
  },
  {
   "cell_type": "markdown",
   "id": "188422be-c25c-44dd-90b3-6191642a0a18",
   "metadata": {},
   "source": [
    "## Compute the generating function using the denominator\n",
    "\n",
    "Now we want to use this denominator to compute the rational generating function for H-linear and H-circular families. The idea is that, as we can compute the determinant separately, it suffices to compute the first terms and multiply by this denominator to get the numerator, with an approximation issue, of course."
   ]
  },
  {
   "cell_type": "code",
   "execution_count": 18,
   "id": "50ec9e91-3c43-4fa2-80eb-77aacb7d99b9",
   "metadata": {},
   "outputs": [],
   "source": [
    "def H_linear_gf(H, n, U1, U2):\n",
    "    '''\n",
    "    Compute the face generating function of a given H-linear family using the determinant.\n",
    "    '''\n",
    "    # constant for the gap\n",
    "    GAPLEN = 5\n",
    "    # first compute the determinant\n",
    "    det = H_family_det(H, n, U1, U2)\n",
    "    detdeg = det.degree()\n",
    "    # then compute the first terms of the gf\n",
    "    polylist = linear_face_poly_list(H, n, U1, U2, detdeg + GAPLEN)\n",
    "    polyfirst = sum(polylist[i] * t^i for i in range(1, len(polylist)))\n",
    "    numer = det * Polytx(polyfirst)\n",
    "    # find the gap in the numerator\n",
    "    degs = set(x for x in numer.dict().keys())\n",
    "    gap = set(range(1, max(degs) + 1)) - degs\n",
    "    if len(gap) < GAPLEN:\n",
    "        raise ValueError('Surprising error occured, not having the correct gap')\n",
    "    maxdeg = min(gap)\n",
    "    numerdict = numer.dict()\n",
    "    numer = sum(Fractx(t)^i * numerdict[i] for i in numerdict if i < maxdeg)\n",
    "    return numer / det"
   ]
  },
  {
   "cell_type": "code",
   "execution_count": 19,
   "id": "47caaf91-a985-4966-8d0b-58fafd388eca",
   "metadata": {},
   "outputs": [
    {
     "data": {
      "text/plain": [
       "(2*x*t^2 + x^2*t)/(-12*t^2 - 4*x*t + 1)"
      ]
     },
     "execution_count": 19,
     "metadata": {},
     "output_type": "execute_result"
    }
   ],
   "source": [
    "H_linear_gf([(0, 1)] * 2, 2, [1], [0])"
   ]
  },
  {
   "cell_type": "code",
   "execution_count": 20,
   "id": "5bf45517-0ca9-4bb4-9b61-c26db2cd7100",
   "metadata": {},
   "outputs": [],
   "source": [
    "def H_circular_gf(H, n, U1, U2):\n",
    "    '''\n",
    "    Compute the face generating function of a given H-linear family using the determinant.\n",
    "    '''\n",
    "    # constant for the gap\n",
    "    GAPLEN = 5\n",
    "    # first compute the determinant\n",
    "    det = H_family_det(H, n, U1, U2)\n",
    "    detdeg = det.degree()\n",
    "    # then compute the first terms of the gf\n",
    "    polylist = circular_face_poly_list(H, n, U1, U2, detdeg + GAPLEN)\n",
    "    polyfirst = sum(polylist[i] * t^i for i in range(1, len(polylist)))\n",
    "    numer = det * Polytx(polyfirst)\n",
    "    # find the gap in the numerator\n",
    "    degs = set(x for x in numer.dict().keys())\n",
    "    gap = set(range(1, max(degs) + 1)) - degs\n",
    "    if len(gap) < GAPLEN:\n",
    "        raise ValueError('Surprising error occured, not having the correct gap')\n",
    "    maxdeg = min(gap)\n",
    "    numerdict = numer.dict()\n",
    "    numer = sum(Fractx(t)^i * numerdict[i] for i in numerdict if i < maxdeg)\n",
    "    return numer / det"
   ]
  },
  {
   "cell_type": "code",
   "execution_count": 21,
   "id": "73240cf5-cd77-4063-aee9-a106b70fa47e",
   "metadata": {},
   "outputs": [],
   "source": [
    "testgf = H_circular_gf([(0, 1)] * 2, 2, [1], [0])"
   ]
  },
  {
   "cell_type": "code",
   "execution_count": 22,
   "id": "74f96a0c-6544-422d-8545-b4a3ad405acb",
   "metadata": {},
   "outputs": [
    {
     "data": {
      "text/plain": [
       "(288*x^4 + 288*x^2)*t^6 + (144*x^5 + 336*x^3 - 96*x)*t^5 + (16*x^6 + 80*x^4 - 240*x^2)*t^4 + (4*x^5 - 140*x^3 + 16*x)*t^3 + (-18*x^4 + 18*x^2)*t^2 + (4*x^3 + 2*x)*t"
      ]
     },
     "execution_count": 22,
     "metadata": {},
     "output_type": "execute_result"
    }
   ],
   "source": [
    "testgf.numerator()"
   ]
  },
  {
   "cell_type": "code",
   "execution_count": 23,
   "id": "8c546b5c-9fc9-4426-b85b-7f2d7aab3a80",
   "metadata": {},
   "outputs": [
    {
     "data": {
      "text/plain": [
       "(-1) * (2*t - 1) * (2*t + 1) * (12*t^2 + 2*x*t - 1) * (12*t^2 + 4*x*t - 1)"
      ]
     },
     "execution_count": 23,
     "metadata": {},
     "output_type": "execute_result"
    }
   ],
   "source": [
    "testgf.denominator().factor()"
   ]
  },
  {
   "cell_type": "markdown",
   "id": "75af8992-0bf1-43ff-b7f4-bc43ab86215d",
   "metadata": {},
   "source": [
    "## Heuristic computation of the generating function using Padé approximation\n",
    "\n",
    "In general, the computation of the determinant takes quite some time. Furthermore, we see that in many cases the real denominator is but a factor of the determinant. Therefore, it may be more interesting to simply compute the first terms and then do a Padé approximation. Note that, however, this does not give a proof, as it is always possible that we don't have enough term. However, it is reasonable if there is a gap between the demanded degree and the degree of the results, as generically they always match when we don't have enough terms.\n",
    "\n",
    "However, as we are dealing with Padé's approximation with potentially high degree for elements in $\\mathbb{Z}[x][[t]$, we need some more effort to shorten the computation time. We have a two-step strategy:\n",
    "\n",
    "- First, given the first terms of a series in $\\mathbb{Z}[x]$, as the coefficients may be large, we project them into $\\mathrm{GF}(p)[x]$ for a quicker computation, and reconstruct the coefficients by taking several different $p$ and then using CRT.\n",
    "- Second, it still takes a lot of time to do Padé's approximation when the coefficients are polynomials, as the rational reconstruction need to work in the fraction field, meaning that we don't have control on the degrees. We then take different random values of $x$ to reduce the problem into Padé's approximation over polynomials in $\\mathrm{GF}(p)[x]$, which is significantly faster, and then reconstruct the polynomial coefficients using Lagrange's interpolation.\n",
    "\n",
    "All these steps are possible because we assume that the denominator of these rational generating functions has constant term $1$, which is combinatorial and corresponds to our cases here."
   ]
  },
  {
   "cell_type": "code",
   "execution_count": 24,
   "id": "8944a4c1-77df-44fb-ad5b-b1c26416e974",
   "metadata": {},
   "outputs": [],
   "source": [
    "def fast_pade(polylistmod, deg_estimate, degnumer, degdenom, PSeries, PFrac):\n",
    "    '''\n",
    "    Perform a faster Padé approximation using interpolation\n",
    "    '''\n",
    "    xvals = []\n",
    "    numervals = []\n",
    "    denomvals = []\n",
    "    PPoly = polylistmod[0].parent()\n",
    "    for i in range(deg_estimate):\n",
    "        randx = PPoly.base().random_element()\n",
    "        while randx in xvals:\n",
    "            randx = PPoly.base().random_element()\n",
    "        xvals.append(randx)\n",
    "        paderes = sum(polylistmod[i].substitute(x=randx) * PSeries(t) ** i for i in range(1, len(polylistmod))).pade(deg_estimate, deg_estimate)\n",
    "        padenumer, padedenom = paderes.numerator(), paderes.denominator()\n",
    "        cst = padedenom.constant_coefficient().inverse()\n",
    "        numervals.append((padenumer * cst).coefficients(sparse=False))\n",
    "        denomvals.append((padedenom * cst).coefficients(sparse=False))\n",
    "    valcnt = len(xvals)\n",
    "    ndegpoly = [PPoly.lagrange_polynomial([(xvals[i], numervals[i][ndeg]) for i in range(valcnt)], algorithm='neville') for ndeg in range(degnumer + 1)]\n",
    "    ddegpoly = [PPoly.lagrange_polynomial([(xvals[i], denomvals[i][ddeg]) for i in range(valcnt)], algorithm='neville') for ddeg in range(degdenom + 1)]\n",
    "    while True: # denominator seems ok, but the numerator does not converge\n",
    "        randx = PPoly.base().random_element()\n",
    "        while randx in xvals:\n",
    "            randx = PPoly.base().random_element()\n",
    "        xvals.append(randx)\n",
    "        paderes = sum(polylistmod[i].substitute(x=randx) * PSeries(t) ** i for i in range(1, len(polylistmod))).pade(deg_estimate, deg_estimate)\n",
    "        padenumer, padedenom = paderes.numerator(), paderes.denominator()\n",
    "        cst = padedenom.constant_coefficient().inverse()\n",
    "        numervals.append((padenumer * cst).coefficients(sparse=False))\n",
    "        denomvals.append((padedenom * cst).coefficients(sparse=False))\n",
    "        valcnt += 1\n",
    "        Flag = True\n",
    "        numerpoly, denompoly = 0, 0\n",
    "        for ndeg in range(degnumer + 1):\n",
    "            ndegpoly[ndeg] = PPoly.lagrange_polynomial([(xvals[i], numervals[i][ndeg]) for i in range(valcnt)], algorithm='neville', previous_row=ndegpoly[ndeg])\n",
    "            if ndegpoly[ndeg][-1].degree() >= valcnt - 2:\n",
    "                Flag = False\n",
    "                break\n",
    "            numerpoly += ndegpoly[ndeg][-1] * PSeries(t) ** ndeg\n",
    "        for ddeg in range(degdenom + 1):\n",
    "            ddegpoly[ddeg] = PPoly.lagrange_polynomial([(xvals[i], denomvals[i][ddeg]) for i in range(valcnt)], algorithm='neville', previous_row=ddegpoly[ddeg])\n",
    "            if ddegpoly[ddeg][-1].degree() >= valcnt - 2:\n",
    "                Flag = False\n",
    "                break\n",
    "            denompoly += ddegpoly[ddeg][-1] * PSeries(t) ** ddeg\n",
    "        if Flag:\n",
    "            break\n",
    "    return PFrac(numerpoly) / PFrac(denompoly)"
   ]
  },
  {
   "cell_type": "code",
   "execution_count": 25,
   "id": "5bc04286-6edf-4c81-9db5-323d4c0a9f2e",
   "metadata": {},
   "outputs": [],
   "source": [
    "import time\n",
    "\n",
    "def pade_heuristic(H, n, U1, U2, polyiter):\n",
    "    '''\n",
    "    Compute the face generating function of the H-circular or H-linear family using Padé's approximation, depending on the iterator given.\n",
    "\n",
    "    This algorithm is as follows:\n",
    "    - We first determine the likely degrees of numerator and denominator with a prime modulo; \n",
    "    - Then we perform the Padé approximation using the CRT, because it is much faster:\n",
    "        - We add a prime modulo and compute the Padé approximation;\n",
    "            - Here we use the `fast_pade` function that uses Lagrange interpolation to accelerate.\n",
    "        - We use CRT to compute the coefficients of the numerator and the denominator;\n",
    "        - We iterate until the coefficients stablize.\n",
    "    '''\n",
    "    deg_estimate = 8\n",
    "    deg_increment = 1\n",
    "    GAPLEN = 2\n",
    "    polylist = []\n",
    "    polyiter = polyiter(H, n, U1, U2) # we use a lazy way to avoid recomputing\n",
    "    starttime = time.time()\n",
    "    print('Estimation phase')\n",
    "    while True:\n",
    "        # compute the first terms of the gf\n",
    "        polytime = time.time() # time spent on computing terms of series\n",
    "        while len(polylist) <= deg_estimate * 2 + GAPLEN:\n",
    "            polylist.append(next(polyiter))\n",
    "            if len(polylist) < 21:\n",
    "                print(f'Series terms count: {len(polylist)}, time elapsed {time.time() - starttime}')\n",
    "        print(f'Series terms count: {len(polylist)}, time elapsed {time.time() - starttime}')\n",
    "        polytime = time.time() - polytime\n",
    "        # do the modulo reduction\n",
    "        p = random_prime(2 ** 62, lbound=2 ** 61)\n",
    "        PPoly = PolynomialRing(GF(p), x)\n",
    "        PFrac = PolynomialRing(PPoly, t).fraction_field()\n",
    "        PSeries = PowerSeriesRing(PPoly, t)\n",
    "        polylistmod = [PPoly(e) for e in polylist]\n",
    "        # pade for the modulo\n",
    "        padetime = time.time() # time spent on pade approximation\n",
    "        randx = PPoly.base().random_element()\n",
    "        pademod = sum(polylistmod[i].substitute(x=randx) * PSeries(t) ** i for i in range(1, len(polylistmod))).pade(deg_estimate, deg_estimate)\n",
    "        degnumer, degdenom = pademod.numerator().degree(), pademod.denominator().degree()\n",
    "        if not (degnumer >= deg_estimate or degdenom >= deg_estimate):\n",
    "            pademod = fast_pade(polylistmod, deg_estimate, degnumer, degdenom, PSeries, PFrac)\n",
    "        padetime = time.time() - padetime\n",
    "        if polytime < padetime * 8: # spending more time on pade approximation, better to compute a few more terms before redoing it\n",
    "            deg_increment += 1\n",
    "        degnumer, degdenom = pademod.numerator().degree(), pademod.denominator().degree()\n",
    "        if degnumer >= deg_estimate or degdenom >= deg_estimate:\n",
    "            print(f'Degrees: numerator {degnumer}, denominator {degdenom}, estimate {deg_estimate}, time {padetime}. Not enough gap, restart.')\n",
    "            deg_estimate += deg_increment\n",
    "        else:\n",
    "            print(f'Degrees: numerator {degnumer}, denominator {degdenom}, estimate {deg_estimate}, time {padetime}. Enough gap, start full approximation by CRT.')\n",
    "            break\n",
    "    # now use Chinese remainder theorem to accelerate computation\n",
    "    # to save time, first get the previous result\n",
    "    print(f'Prime modulo: {p}')\n",
    "    plist = [p]\n",
    "    normalize = pademod.denominator().truncate(1).inverse() # we need to keep the constant term of the denominator to 1\n",
    "    numerdict = {(i, j): ZZ(val * normalize) for i, poly in pademod.numerator().dict().items() for j, val in poly.dict().items()}\n",
    "    numer_resdict = {p : [e] for p, e in numerdict.items()}\n",
    "    denomdict = {(i, j): ZZ(val * normalize) for i, poly in pademod.denominator().dict().items() for j, val in poly.dict().items()}\n",
    "    denom_resdict = {p : [e] for p, e in denomdict.items()}\n",
    "    while True:\n",
    "        # get a new modulo and compute\n",
    "        p = random_prime(2 ** 62, lbound = 2 ** 61)\n",
    "        print(f'Prime modulo: {p}')\n",
    "        while p in plist:\n",
    "            p = random_prime(2 ** 62, lbound = 2 ** 61)\n",
    "        plist.append(p)\n",
    "        pprod = product(plist)\n",
    "        pprodx = product(plist[:-1])\n",
    "        PPoly = PolynomialRing(GF(p), x)\n",
    "        PFrac = PolynomialRing(PPoly, t).fraction_field()\n",
    "        PSeries = PowerSeriesRing(PPoly, t)\n",
    "        polylistmod = [PPoly(e) for e in polylist]\n",
    "        pademod = fast_pade(polylistmod, deg_estimate, degnumer, degdenom, PSeries, PFrac)\n",
    "        normalize = pademod.denominator().truncate(1).inverse()\n",
    "        flag = False\n",
    "        for i, poly in pademod.numerator().dict().items(): # any KeyError is simply bad chance...\n",
    "            for j, val in poly.dict().items():\n",
    "                numer_resdict[(i, j)].append(ZZ(val * normalize))\n",
    "                coeff = CRT_list(numer_resdict[(i, j)], plist)\n",
    "                if coeff != numerdict[(i, j)] and pprod - coeff != pprodx - numerdict[(i, j)]: # also for negative coefficients\n",
    "                    flag = True\n",
    "                numerdict[(i, j)] = coeff\n",
    "        for i, poly in pademod.denominator().dict().items(): # any KeyError is simply bad chance...\n",
    "            for j, val in poly.dict().items():\n",
    "                denom_resdict[(i, j)].append(ZZ(val * normalize))\n",
    "                coeff = CRT_list(denom_resdict[(i, j)], plist)\n",
    "                if coeff != denomdict[(i, j)] and pprod - coeff != pprodx - denomdict[(i, j)]: # also for negative coefficients\n",
    "                    flag = True\n",
    "                denomdict[(i, j)] = coeff\n",
    "        if not flag: # we stop when adding a new prime does not change anything\n",
    "            break\n",
    "    # convert negative coefficients\n",
    "    for key in denomdict:\n",
    "        if denomdict[key] * 2 > pprod:\n",
    "            denomdict[key] -= pprod\n",
    "    for key in numerdict:\n",
    "        if numerdict[key] * 2 > pprod:\n",
    "            numerdict[key] -= pprod\n",
    "    numer = sum(Fractx(t) ** i * Rx.monomial(j) * numerdict[(i, j)] for (i, j) in numerdict)\n",
    "    denom = sum(Fractx(t) ** i * Rx.monomial(j) * denomdict[(i, j)] for (i, j) in denomdict)\n",
    "    print(f'Total time: {time.time() - starttime}')\n",
    "    return numer, denom\n",
    "\n",
    "def pade_heuristic_linear(H, n, U1, U2):\n",
    "    '''\n",
    "    Compute the face generating function of the H-linear family.\n",
    "\n",
    "    A thin wrapper of `pade_heuristic`\n",
    "    '''\n",
    "    return pade_heuristic(H, n, U1, U2, linear_face_poly_iter)\n",
    "\n",
    "def pade_heuristic_circular(H, n, U1, U2):\n",
    "    '''\n",
    "    Compute the face generating function of the H-circular family.\n",
    "\n",
    "    A thin wrapper of `pade_heuristic`\n",
    "    '''\n",
    "    return pade_heuristic(H, n, U1, U2, circular_face_poly_iter)"
   ]
  },
  {
   "cell_type": "code",
   "execution_count": 26,
   "id": "d179613d-6552-4a2a-8be8-5d2f20817f78",
   "metadata": {},
   "outputs": [
    {
     "name": "stdout",
     "output_type": "stream",
     "text": [
      "Estimation phase\n",
      "Series terms count: 1, time elapsed 0.0009214878082275391\n",
      "Series terms count: 2, time elapsed 0.001374959945678711\n",
      "Series terms count: 3, time elapsed 0.006846427917480469\n",
      "Series terms count: 4, time elapsed 0.09459090232849121\n",
      "Series terms count: 5, time elapsed 0.43059229850769043\n",
      "Series terms count: 6, time elapsed 0.8864617347717285\n",
      "Series terms count: 7, time elapsed 1.3595490455627441\n",
      "Series terms count: 8, time elapsed 1.8433687686920166\n",
      "Series terms count: 9, time elapsed 2.319758176803589\n",
      "Series terms count: 10, time elapsed 2.7886459827423096\n",
      "Series terms count: 11, time elapsed 3.2615280151367188\n",
      "Series terms count: 12, time elapsed 3.742609977722168\n",
      "Series terms count: 13, time elapsed 4.227165460586548\n",
      "Series terms count: 14, time elapsed 4.798281669616699\n",
      "Series terms count: 15, time elapsed 5.302072048187256\n",
      "Series terms count: 16, time elapsed 5.84506630897522\n",
      "Series terms count: 17, time elapsed 6.369824171066284\n",
      "Series terms count: 18, time elapsed 6.912282466888428\n",
      "Series terms count: 19, time elapsed 7.450037956237793\n",
      "Series terms count: 19, time elapsed 7.4500861167907715\n",
      "Degrees: numerator 3, denominator 3, estimate 8, time 0.07215642929077148. Enough gap, start full approximation by CRT.\n",
      "Prime modulo: 4507309936157472853\n",
      "Prime modulo: 2435826442334369863\n",
      "Total time: 7.564127683639526\n"
     ]
    }
   ],
   "source": [
    "testgfnumer, testgfdenom = pade_heuristic_linear([[0, 1]] * 3, 2, [1], [0])"
   ]
  },
  {
   "cell_type": "code",
   "execution_count": 27,
   "id": "586fdff3-6c22-4ddc-b262-82b027a52cdb",
   "metadata": {},
   "outputs": [
    {
     "data": {
      "text/plain": [
       "43200*t^3 + (-1080*x^2 + 2880)*t^2 + (-18*x^2 - 120)*t + 1"
      ]
     },
     "execution_count": 27,
     "metadata": {},
     "output_type": "execute_result"
    }
   ],
   "source": [
    "testgfdenom.factor()"
   ]
  },
  {
   "cell_type": "code",
   "execution_count": 28,
   "id": "a0414d0c-2d1e-4bfb-a388-39a3ac0bf9c2",
   "metadata": {},
   "outputs": [
    {
     "name": "stdout",
     "output_type": "stream",
     "text": [
      "Estimation phase\n",
      "Series terms count: 1, time elapsed 0.0006945133209228516\n",
      "Series terms count: 2, time elapsed 0.002741575241088867\n",
      "Series terms count: 3, time elapsed 0.06463289260864258\n",
      "Series terms count: 4, time elapsed 0.38547635078430176\n",
      "Series terms count: 5, time elapsed 1.044654130935669\n",
      "Series terms count: 6, time elapsed 1.819652795791626\n",
      "Series terms count: 7, time elapsed 2.621429920196533\n",
      "Series terms count: 8, time elapsed 3.4244940280914307\n",
      "Series terms count: 9, time elapsed 4.220074653625488\n",
      "Series terms count: 10, time elapsed 5.037166357040405\n",
      "Series terms count: 11, time elapsed 5.865373373031616\n",
      "Series terms count: 12, time elapsed 6.718021869659424\n",
      "Series terms count: 13, time elapsed 7.57464861869812\n",
      "Series terms count: 14, time elapsed 8.461743831634521\n",
      "Series terms count: 15, time elapsed 9.365655183792114\n",
      "Series terms count: 16, time elapsed 10.283171653747559\n",
      "Series terms count: 17, time elapsed 11.235028743743896\n",
      "Series terms count: 18, time elapsed 12.21125316619873\n",
      "Series terms count: 19, time elapsed 13.217841625213623\n",
      "Series terms count: 19, time elapsed 13.217910766601562\n",
      "Degrees: numerator 8, denominator 8, estimate 8, time 0.008272409439086914. Not enough gap, restart.\n",
      "Series terms count: 20, time elapsed 14.222190141677856\n",
      "Series terms count: 21, time elapsed 15.225261926651001\n",
      "Degrees: numerator 9, denominator 9, estimate 9, time 0.011300325393676758. Not enough gap, restart.\n",
      "Series terms count: 23, time elapsed 17.2777361869812\n",
      "Degrees: numerator 10, denominator 10, estimate 10, time 0.010972261428833008. Not enough gap, restart.\n",
      "Series terms count: 25, time elapsed 19.366403579711914\n",
      "Degrees: numerator 11, denominator 11, estimate 11, time 0.012064456939697266. Not enough gap, restart.\n",
      "Series terms count: 27, time elapsed 21.562487840652466\n",
      "Degrees: numerator 12, denominator 12, estimate 12, time 0.011816740036010742. Not enough gap, restart.\n",
      "Series terms count: 29, time elapsed 23.735244512557983\n",
      "Degrees: numerator 13, denominator 13, estimate 13, time 0.01259613037109375. Not enough gap, restart.\n",
      "Series terms count: 31, time elapsed 26.047422647476196\n",
      "Degrees: numerator 13, denominator 13, estimate 14, time 0.1857903003692627. Enough gap, start full approximation by CRT.\n",
      "Prime modulo: 3855689981785640711\n",
      "Prime modulo: 3143105263754880251\n",
      "Total time: 26.422409772872925\n"
     ]
    }
   ],
   "source": [
    "testgfnumer, testgfdenom = pade_heuristic_circular([[0, 1]] * 3, 2, [1], [0])"
   ]
  },
  {
   "cell_type": "code",
   "execution_count": 29,
   "id": "9e134a07-0a9a-49a9-acc4-f16f792f42f2",
   "metadata": {},
   "outputs": [
    {
     "data": {
      "text/plain": [
       "(-1) * (6*t + 1) * (12*t - 1) * (360*t^2 + (-12*x + 30)*t - 1) * (360*t^2 + (12*x + 30)*t - 1) * (43200*t^3 + (-1080*x^2 + 2880)*t^2 + (-18*x^2 - 120)*t + 1) * (259200*t^4 + (-2160*x^2 + 60480)*t^3 + (-612*x^2 + 2160)*t^2 + (-6*x^2 - 114)*t + 1)"
      ]
     },
     "execution_count": 29,
     "metadata": {},
     "output_type": "execute_result"
    }
   ],
   "source": [
    "testgfdenom.factor()"
   ]
  },
  {
   "cell_type": "markdown",
   "id": "609dcd5f-2b28-46f7-b627-7e2bff73c331",
   "metadata": {},
   "source": [
    "## Last step: from face generating function to genus generating function\n",
    "\n",
    "For simplicity, we have been working with face generating function, as it works the best for permutations. However, it is the best to convert back to genus generating function using the Euler formula. We thus need to compute precisely the number of vertices and edges in H-linear and H-circular families.\n",
    "\n",
    "For a graph $H$ with $E$ edges and $V$ vertices with gluing between two sets of vertices of size $U$,\n",
    "\n",
    "- The $H$-linear graph with $k$ copies has $kE$ edges and $k(V - U) + U$ vertices.\n",
    "- The $H$-circular graph with $k$ copies has $kE$ edges and $k(V - U)$ vertices.\n",
    "\n",
    "Therefore, we need the following transformation:\n",
    "\n",
    "- $H$-linear case: face generating function $f(t, x)$ gives genus generating function $x^{1 + U/2} f(tx^{(E-V+U)/2}, x^{-1/2})$;\n",
    "- $H$-circular case: face generating function $f(t, x)$ gives genus generating function $x f(tx^{(E-V+U)/2}, x^{-1/2})$;"
   ]
  },
  {
   "cell_type": "code",
   "execution_count": 30,
   "id": "8980662f-c32e-4c0a-8588-b09596f3e9c0",
   "metadata": {},
   "outputs": [],
   "source": [
    "def H_family_genus_gf(H, n, U1, U2, ftype, algorithm='pade'):\n",
    "    '''\n",
    "    Returns the H-linear or the H-circular genus generating function of the given graph and gluing.\n",
    "\n",
    "    The gluing is given by identifying each pair of vertices in `U1` and `U2` with the same length.\n",
    "\n",
    "    We offer two algorithms:\n",
    "\n",
    "    - 'pade', which computes the first terms and then do optimized Padé's approximation for the generating function.\n",
    "    - 'det', which computes the denominator explicitly, then use the first terms for the numerator.\n",
    "\n",
    "    Both algorithms contains some heuristics, but 'det' assumes less and thus more reliable, while also taking more time.\n",
    "\n",
    "    INPUT:\n",
    "\n",
    "    - `H`: The graph given as a list of edges (pairs of integers from 0 to `n` - 1)\n",
    "    - `n`: The number of vertices. The vertices are presented as numbers from 0 to `n` - 1.\n",
    "    - `U1`: A list of vertices\n",
    "    - `U2`: A list of vertices of the same length as `U1`.\n",
    "    - `algorithm`: The algorithm to use, either 'pade' by default for using Padé's approximation, or 'det' with the determinant\n",
    "    '''\n",
    "    def half_power(poly):\n",
    "        accu = 0\n",
    "        tt = poly.parent().gen()\n",
    "        for tpow, xpoly in poly.dict().items():\n",
    "            xaccu = 0\n",
    "            xx = xpoly.parent().gen()\n",
    "            for xpow, xcoeff in xpoly.dict().items():\n",
    "                if xpow % 2 != 0:\n",
    "                    print(poly)\n",
    "                    raise ValueError('Odd power, not possible to half it')\n",
    "                xaccu += xx^(xpow // 2) * xcoeff\n",
    "            accu += tt^tpow * xaccu\n",
    "        return accu\n",
    "\n",
    "    edgecnt = len(H)\n",
    "    Ucnt = len(U1)\n",
    "    numer, denom, extrapow = 0, 0, 0\n",
    "    if ftype == 'linear':\n",
    "        extrapow = -Ucnt\n",
    "        if algorithm == 'pade':\n",
    "            numer, denom = pade_heuristic_linear(H, n, U1, U2)\n",
    "        elif algorithm == 'det':\n",
    "            res = H_linear_gf(H, n, U1, U2)\n",
    "            numer, denom = res.numerator(), res.denominator()\n",
    "        else:\n",
    "            raise ValueError('Invalid algorithm')\n",
    "    elif ftype == 'circular':\n",
    "        extrapow = 0\n",
    "        if algorithm == 'pade':\n",
    "            numer, denom = pade_heuristic_circular(H, n, U1, U2)\n",
    "        elif algorithm == 'det':\n",
    "            res = H_circular_gf(H, n, U1, U2)\n",
    "            numer, denom = res.numerator(), res.denominator()\n",
    "        else:\n",
    "            raise ValueError('Invalid algorithm')\n",
    "    else:\n",
    "        raise ValueError('Invalid family type')\n",
    "    # first we work with x^{1/2} to avoid fractional powers\n",
    "    # Laurent polynomials are needed to express negative coefficients\n",
    "    LRx = LaurentPolynomialRing(ZZ, x)\n",
    "    PolyLRtx = PolynomialRing(Rx, t)\n",
    "    FracLRtx = PolyLRtx.fraction_field()\n",
    "    numer, denom = PolyLRtx(numer), PolyLRtx(denom)\n",
    "    numer = numer.substitute(x=x^(-1), t=t * x^(edgecnt - n + Ucnt)) * LRx(x)^(2 + extrapow)\n",
    "    denom = denom.substitute(x=x^(-1), t=t * x^(edgecnt - n + Ucnt))\n",
    "    res = FracLRtx(numer) / FracLRtx(denom)\n",
    "    numer, denom = res.numerator(), res.denominator()\n",
    "    # maybe there are negative powers\n",
    "    minval_numer = min(poly.valuation() for poly in numer.coefficients())\n",
    "    minval_denom = min(poly.valuation() for poly in denom.coefficients())\n",
    "    minval = min(minval_numer, minval_denom)\n",
    "    numer *= x^(-minval)\n",
    "    denom *= x^(-minval)\n",
    "    numer, denom = Polytx(numer), Polytx(denom)\n",
    "    # now powers in x are positive, but we cannot half the power in general\n",
    "    # ugly hack\n",
    "    return half_power(numer), half_power(denom)"
   ]
  },
  {
   "cell_type": "code",
   "execution_count": 31,
   "id": "b4194915-60a2-4eec-b23b-4d589f1df108",
   "metadata": {},
   "outputs": [],
   "source": [
    "def H_linear_genus_gf(H, n, U1, U2, algorithm='pade'):\n",
    "    '''\n",
    "    Returns the H-linear genus generating function of the given graph and gluing.\n",
    "\n",
    "    A thin wrapper of `H_family_genus_gf`.\n",
    "    '''\n",
    "    return H_family_genus_gf(H, n, U1, U2, 'linear', algorithm)\n",
    "\n",
    "def H_circular_genus_gf(H, n, U1, U2, algorithm='pade'):\n",
    "    '''\n",
    "    Returns the H-circular genus generating function of the given graph and gluing.\n",
    "\n",
    "    A thin wrapper of `H_family_genus_gf`.\n",
    "    '''\n",
    "    return H_family_genus_gf(H, n, U1, U2, 'circular', algorithm)"
   ]
  },
  {
   "cell_type": "code",
   "execution_count": 32,
   "id": "39b89d67-464d-4856-8217-8810bce0eede",
   "metadata": {},
   "outputs": [
    {
     "name": "stdout",
     "output_type": "stream",
     "text": [
      "Estimation phase\n",
      "Series terms count: 1, time elapsed 0.0008738040924072266\n",
      "Series terms count: 2, time elapsed 0.0011298656463623047\n",
      "Series terms count: 3, time elapsed 0.0050127506256103516\n",
      "Series terms count: 4, time elapsed 0.09510374069213867\n",
      "Series terms count: 5, time elapsed 0.45055222511291504\n",
      "Series terms count: 6, time elapsed 0.9119412899017334\n",
      "Series terms count: 7, time elapsed 1.3886773586273193\n",
      "Series terms count: 8, time elapsed 1.8738555908203125\n",
      "Series terms count: 9, time elapsed 2.352273941040039\n",
      "Series terms count: 10, time elapsed 2.8392066955566406\n",
      "Series terms count: 11, time elapsed 3.3261144161224365\n",
      "Series terms count: 12, time elapsed 3.8161001205444336\n",
      "Series terms count: 13, time elapsed 4.3084821701049805\n",
      "Series terms count: 14, time elapsed 4.8221540451049805\n",
      "Series terms count: 15, time elapsed 5.334232807159424\n",
      "Series terms count: 16, time elapsed 5.864420413970947\n",
      "Series terms count: 17, time elapsed 6.430077791213989\n",
      "Series terms count: 18, time elapsed 6.996405839920044\n",
      "Series terms count: 19, time elapsed 7.571306228637695\n",
      "Series terms count: 19, time elapsed 7.571361303329468\n",
      "Degrees: numerator 3, denominator 3, estimate 8, time 0.03266191482543945. Enough gap, start full approximation by CRT.\n",
      "Prime modulo: 2440551635294334539\n",
      "Prime modulo: 3910307531555495141\n",
      "Total time: 7.636554479598999\n"
     ]
    }
   ],
   "source": [
    "testgfnumer, testgfdenom = H_linear_genus_gf([[0, 1]] * 3, 2, [1], [0])"
   ]
  },
  {
   "cell_type": "code",
   "execution_count": 33,
   "id": "6d5999fd-c6f8-4738-a660-7b0e5e71da54",
   "metadata": {},
   "outputs": [
    {
     "data": {
      "text/plain": [
       "(-1) * 2 * t * (12*x*t + 1) * (60*x^2*t - x - 1)"
      ]
     },
     "execution_count": 33,
     "metadata": {},
     "output_type": "execute_result"
    }
   ],
   "source": [
    "testgfnumer.factor()"
   ]
  },
  {
   "cell_type": "code",
   "execution_count": 34,
   "id": "f3920a4c-d4cd-46ed-b4e4-91533dff246a",
   "metadata": {},
   "outputs": [
    {
     "data": {
      "text/plain": [
       "43200*x^3*t^3 + (2880*x^2 - 1080*x)*t^2 + (-120*x - 18)*t + 1"
      ]
     },
     "execution_count": 34,
     "metadata": {},
     "output_type": "execute_result"
    }
   ],
   "source": [
    "testgfdenom.factor()"
   ]
  },
  {
   "cell_type": "code",
   "execution_count": 35,
   "id": "25e401f4-cf0a-4207-9785-4fa65114f67f",
   "metadata": {},
   "outputs": [
    {
     "name": "stdout",
     "output_type": "stream",
     "text": [
      "Estimation phase\n",
      "Series terms count: 1, time elapsed 0.0004010200500488281\n",
      "Series terms count: 2, time elapsed 0.0022437572479248047\n",
      "Series terms count: 3, time elapsed 0.0675516128540039\n",
      "Series terms count: 4, time elapsed 0.4027106761932373\n",
      "Series terms count: 5, time elapsed 1.094294548034668\n",
      "Series terms count: 6, time elapsed 1.8996336460113525\n",
      "Series terms count: 7, time elapsed 2.7033746242523193\n",
      "Series terms count: 8, time elapsed 3.5246102809906006\n",
      "Series terms count: 9, time elapsed 4.332018613815308\n",
      "Series terms count: 10, time elapsed 5.143988370895386\n",
      "Series terms count: 11, time elapsed 5.9688026905059814\n",
      "Series terms count: 12, time elapsed 6.819619178771973\n",
      "Series terms count: 13, time elapsed 7.67631459236145\n",
      "Series terms count: 14, time elapsed 8.575678586959839\n",
      "Series terms count: 15, time elapsed 9.48997950553894\n",
      "Series terms count: 16, time elapsed 10.416428804397583\n",
      "Series terms count: 17, time elapsed 11.394840478897095\n",
      "Series terms count: 18, time elapsed 12.365508317947388\n",
      "Series terms count: 19, time elapsed 13.349079132080078\n",
      "Series terms count: 19, time elapsed 13.349138975143433\n",
      "Degrees: numerator 8, denominator 8, estimate 8, time 0.007238864898681641. Not enough gap, restart.\n",
      "Series terms count: 20, time elapsed 14.435304403305054\n",
      "Series terms count: 21, time elapsed 15.435978889465332\n",
      "Degrees: numerator 9, denominator 9, estimate 9, time 0.007812976837158203. Not enough gap, restart.\n",
      "Series terms count: 23, time elapsed 17.5477135181427\n",
      "Degrees: numerator 10, denominator 10, estimate 10, time 0.010913372039794922. Not enough gap, restart.\n",
      "Series terms count: 25, time elapsed 19.73383140563965\n",
      "Degrees: numerator 11, denominator 11, estimate 11, time 0.009679555892944336. Not enough gap, restart.\n",
      "Series terms count: 27, time elapsed 21.9546058177948\n",
      "Degrees: numerator 12, denominator 12, estimate 12, time 0.011282205581665039. Not enough gap, restart.\n",
      "Series terms count: 29, time elapsed 24.14513087272644\n",
      "Degrees: numerator 13, denominator 13, estimate 13, time 0.011658906936645508. Not enough gap, restart.\n",
      "Series terms count: 31, time elapsed 26.379082918167114\n",
      "Degrees: numerator 13, denominator 13, estimate 14, time 0.17806649208068848. Enough gap, start full approximation by CRT.\n",
      "Prime modulo: 3137575616330987987\n",
      "Prime modulo: 3012320058537959779\n",
      "Total time: 26.739075183868408\n"
     ]
    }
   ],
   "source": [
    "testgfnumer, testgfdenom = H_circular_genus_gf([[0, 1]] * 3, 2, [1], [0])"
   ]
  },
  {
   "cell_type": "code",
   "execution_count": 36,
   "id": "baf83101-22cc-44a9-a231-f14806b32512",
   "metadata": {},
   "outputs": [
    {
     "data": {
      "text/plain": [
       "2^3 * t * ((4353564672000000*x^13 + 6530347008000000*x^12 + 2176782336000000*x^11)*t^12 + (1741425868800000*x^12 + 4389844377600000*x^11 + 798153523200000*x^10 - 72559411200000*x^9)*t^11 + (104001822720000*x^11 + 1004947845120000*x^10 + 13907220480000*x^9 - 33105231360000*x^8 + 453496320000*x^7)*t^10 + (-45934138368000*x^10 + 77840123904000*x^9 - 26086116096000*x^8 - 4237671168000*x^7 + 292253184000*x^6)*t^9 + (-8270429184000*x^9 - 2348775014400*x^8 - 2839894732800*x^7 + 69872025600*x^6 + 48876825600*x^5 - 503884800*x^4)*t^8 + (-286738444800*x^8 - 482184161280*x^7 + 77853000960*x^6 + 37246884480*x^5 + 1266710400*x^4 - 151165440*x^3)*t^7 + (29358288000*x^7 + 3310009920*x^6 + 18235730880*x^5 - 302575824*x^4 - 186099120*x^3 - 3779136*x^2)*t^6 + (1454500800*x^6 + 1357250256*x^5 - 84107160*x^4 - 161394768*x^3 + 2420280*x^2 - 23328*x)*t^5 + (-67003200*x^5 - 25857144*x^4 - 39956652*x^3 + 2545344*x^2 + 159732*x)*t^4 + (-1441584*x^4 - 1868292*x^3 + 732510*x^2 + 81432*x + 1134)*t^3 + (102312*x^3 + 87948*x^2 + 1233*x + 207)*t^2 + (-1740*x^2 - 1215*x - 105)*t + 10*x + 5)"
      ]
     },
     "execution_count": 36,
     "metadata": {},
     "output_type": "execute_result"
    }
   ],
   "source": [
    "testgfnumer.factor()"
   ]
  },
  {
   "cell_type": "code",
   "execution_count": 37,
   "id": "50cf9158-6ef9-42e0-8341-bc6f440e22ad",
   "metadata": {},
   "outputs": [
    {
     "data": {
      "text/plain": [
       "(-1) * (6*x*t + 1) * (12*x*t - 1) * (43200*x^3*t^3 + (2880*x^2 - 1080*x)*t^2 + (-120*x - 18)*t + 1) * (129600*x^4*t^4 + 21600*x^3*t^3 + (180*x^2 - 144*x)*t^2 - 60*x*t + 1) * (259200*x^4*t^4 + (60480*x^3 - 2160*x^2)*t^3 + (2160*x^2 - 612*x)*t^2 + (-114*x - 6)*t + 1)"
      ]
     },
     "execution_count": 37,
     "metadata": {},
     "output_type": "execute_result"
    }
   ],
   "source": [
    "testgfdenom.factor()"
   ]
  },
  {
   "cell_type": "code",
   "execution_count": null,
   "id": "156fb2e4-8495-4325-a8bd-81d325c731c0",
   "metadata": {},
   "outputs": [],
   "source": []
  }
 ],
 "metadata": {
  "kernelspec": {
   "display_name": "SageMath 10.4",
   "language": "sage",
   "name": "sagemath"
  },
  "language_info": {
   "codemirror_mode": {
    "name": "ipython",
    "version": 3
   },
   "file_extension": ".py",
   "mimetype": "text/x-python",
   "name": "python",
   "nbconvert_exporter": "python",
   "pygments_lexer": "ipython3",
   "version": "3.12.7"
  }
 },
 "nbformat": 4,
 "nbformat_minor": 5
}
